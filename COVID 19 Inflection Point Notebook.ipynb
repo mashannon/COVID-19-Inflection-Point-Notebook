{
 "cells": [
  {
   "cell_type": "markdown",
   "metadata": {},
   "source": [
    "# COVID 19 Inflection Point Notebook"
   ]
  },
  {
   "cell_type": "code",
   "execution_count": 1,
   "metadata": {},
   "outputs": [
    {
     "name": "stdout",
     "output_type": "stream",
     "text": [
      "    seconds_since_Epoch   tested  positive  deaths\n",
      "0            1583651326      NaN       NaN     NaN\n",
      "1            1583730615      NaN       2.0     NaN\n",
      "2            1583804881      NaN       7.0     NaN\n",
      "3            1583909676      7.0       7.0     NaN\n",
      "4            1583981097      8.0       8.0     NaN\n",
      "5            1584022321     12.0      12.0     NaN\n",
      "6            1584055830     15.0      15.0     NaN\n",
      "7            1584137412    101.0      15.0     0.0\n",
      "8            1584204870    160.0      23.0     0.0\n",
      "9            1584286826    259.0      32.0     0.0\n",
      "10           1584396920    329.0      33.0     0.0\n",
      "11           1584475630    376.0      40.0     0.0\n",
      "12           1584563350   1850.0      63.0     0.0\n",
      "13           1584631341   2505.0      97.0     0.0\n",
      "14           1584727343   3233.0     137.0     0.0\n",
      "15           1584804875   5276.0     184.0     0.0\n",
      "16           1584890168   6438.0     255.0     0.0\n",
      "17           1584982168   8438.0     297.0     0.0\n",
      "18           1585062732   8502.0     398.0     0.0\n",
      "19           1585152300  10489.0     504.0     1.0\n",
      "20           1585251221  12910.0     636.0     2.0\n"
     ]
    }
   ],
   "source": [
    "import pandas as pd\n",
    "data = pd.read_csv('http://coronavirusapi.com/getTimeSeries/NC')\n",
    "\n",
    "print (data)"
   ]
  },
  {
   "cell_type": "code",
   "execution_count": 69,
   "metadata": {},
   "outputs": [
    {
     "name": "stdout",
     "output_type": "stream",
     "text": [
      "Sun, 08 Mar 2020 - Growth Rate 89 - 0 = undefined\n",
      "Sun, 08 Mar 2020 - Growth Rate 105 - 89 = 1.1797752808988764\n",
      "Mon, 09 Mar 2020 - Growth Rate 142 - 105 = 1.3523809523809525\n",
      "Tue, 10 Mar 2020 - Growth Rate 173 - 142 = 1.2183098591549295\n",
      "Wed, 11 Mar 2020 - Growth Rate 216 - 173 = 1.2485549132947977\n",
      "Thu, 12 Mar 2020 - Growth Rate 325 - 216 = 1.5046296296296295\n",
      "Fri, 13 Mar 2020 - Growth Rate 421 - 325 = 1.2953846153846154\n",
      "Sat, 14 Mar 2020 - Growth Rate 524 - 421 = 1.2446555819477434\n",
      "Sat, 14 Mar 2020 - Growth Rate 524 - 524 = 1.0\n",
      "Sat, 14 Mar 2020 - Growth Rate 613 - 524 = 1.1698473282442747\n",
      "Sun, 15 Mar 2020 - Growth Rate 729 - 613 = 1.1892332789559543\n",
      "Mon, 16 Mar 2020 - Growth Rate 950 - 729 = 1.3031550068587106\n",
      "Tue, 17 Mar 2020 - Growth Rate 950 - 950 = 1.0\n",
      "Tue, 17 Mar 2020 - Growth Rate 1374 - 950 = 1.4463157894736842\n",
      "Wed, 18 Mar 2020 - Growth Rate 2382 - 1374 = 1.7336244541484715\n",
      "Thu, 19 Mar 2020 - Growth Rate 4152 - 2382 = 1.743073047858942\n",
      "Fri, 20 Mar 2020 - Growth Rate 7102 - 4152 = 1.7105009633911368\n",
      "Fri, 20 Mar 2020 - Growth Rate 7102 - 7102 = 1.0\n",
      "Sat, 21 Mar 2020 - Growth Rate 7102 - 7102 = 1.0\n",
      "Sat, 21 Mar 2020 - Growth Rate 10356 - 7102 = 1.4581807941424951\n",
      "Sun, 22 Mar 2020 - Growth Rate 10356 - 10356 = 1.0\n",
      "Sun, 22 Mar 2020 - Growth Rate 15168 - 10356 = 1.4646581691772886\n",
      "Sun, 22 Mar 2020 - Growth Rate 15168 - 15168 = 1.0\n",
      "Mon, 23 Mar 2020 - Growth Rate 15168 - 15168 = 1.0\n",
      "Mon, 23 Mar 2020 - Growth Rate 20875 - 15168 = 1.3762526371308017\n",
      "Mon, 23 Mar 2020 - Growth Rate 20875 - 20875 = 1.0\n",
      "Tue, 24 Mar 2020 - Growth Rate 20875 - 20875 = 1.0\n",
      "Tue, 24 Mar 2020 - Growth Rate 20875 - 20875 = 1.0\n",
      "Tue, 24 Mar 2020 - Growth Rate 20875 - 20875 = 1.0\n",
      "Tue, 24 Mar 2020 - Growth Rate 25665 - 20875 = 1.2294610778443114\n",
      "Tue, 24 Mar 2020 - Growth Rate 25665 - 25665 = 1.0\n",
      "Tue, 24 Mar 2020 - Growth Rate 25665 - 25665 = 1.0\n",
      "Wed, 25 Mar 2020 - Growth Rate 30811 - 25665 = 1.200506526397818\n",
      "Wed, 25 Mar 2020 - Growth Rate 30811 - 30811 = 1.0\n",
      "Thu, 26 Mar 2020 - Growth Rate 37258 - 30811 = 1.209243452013891\n",
      "Thu, 26 Mar 2020 - Growth Rate 37258 - 37258 = 1.0\n"
     ]
    }
   ],
   "source": [
    "import csv\n",
    "import urllib.request\n",
    "\n",
    "# CONSTANTS\n",
    "SEC_SINCE_EPOCH   = 0 # the first filed of the record is the number of seconds since the epoch\n",
    "NUM_TESTED        = 1 # the second field of the record is the number of people tested\n",
    "POSITIVE_CASES    = 2 # the third field of the record has the number of people testing positive\n",
    "NUM_DEATHS        = 3 # the forth field of the record has the number of people who have died\n",
    "\n",
    "\n",
    "State = 'NY'\n",
    "\n",
    "# The URL returns a CSV file of the reported cases in a given state.\n",
    "# To select a state you append its 2 letter USPS abrevation to the end of the URL \n",
    "url = 'http://coronavirusapi.com/getTimeSeries/' + State\n",
    "\n",
    "response = urllib.request.urlopen(url) # get the data from the website\n",
    "\n",
    "todayRecord = None\n",
    "for item in response:\n",
    "    newRecord = item.decode('utf-8') # item is a Bytes Literal and needs to be converted\n",
    "    newRecord = newRecord.split(',') # The CSV line is one big string and needs to seperated\n",
    "    #positiveCases = newRecord[2] # field 2 is the number of positive cases\n",
    "    \n",
    "    if (newRecord[POSITIVE_CASES] == 'positive'): # The first line of the file is the headers\n",
    "        todayRecord = newRecord                 # It gives me a convient way to initialize yesterday\n",
    "        todayRecord[POSITIVE_CASES] = 0\n",
    "    else:\n",
    "        yesterdayRecord = todayRecord\n",
    "        todayRecord = newRecord\n",
    "        if(todayRecord[POSITIVE_CASES] == ''): # Sometimes the positive Cases field is blank\n",
    "            todayRecord[POSITIVE_CASES] = 0\n",
    "\n",
    "    \n",
    "        epoch = todayRecord[SEC_SINCE_EPOCH] # the 0 field has the time in seconds since the epoch\n",
    "        date = time.strftime(\"%a, %d %b %Y\", time.localtime(int(epoch)))\n",
    "        \n",
    "        today = todayRecord[POSITIVE_CASES]\n",
    "        yesterday = yesterdayRecord[POSITIVE_CASES]\n",
    "        \n",
    "        if(yesterday == 0): # If yesterday was zero, a division by zero error will occur\n",
    "            print('{} - Growth Rate {} - {} = {}'.format (date, today, yesterday, 'undefined'))\n",
    "        else:\n",
    "            print('{} - Growth Rate {} - {} = {}'.format (date, today, yesterday, int(today) / int(yesterday)))"
   ]
  },
  {
   "cell_type": "code",
   "execution_count": 16,
   "metadata": {},
   "outputs": [
    {
     "data": {
      "text/plain": [
       "'Sun, 08 Mar 2020 03:08:46 Eastern Daylight Time'"
      ]
     },
     "execution_count": 16,
     "metadata": {},
     "output_type": "execute_result"
    }
   ],
   "source": [
    "import time\n",
    "epoch = 1583651326\n",
    "time.strftime(\"%a, %d %b %Y %H:%M:%S %Z\", time.localtime(epoch))"
   ]
  },
  {
   "cell_type": "markdown",
   "metadata": {},
   "source": [
    "Go out to website and download the data"
   ]
  },
  {
   "cell_type": "markdown",
   "metadata": {},
   "source": [
    "Calculate the growth rate"
   ]
  },
  {
   "cell_type": "markdown",
   "metadata": {},
   "source": [
    "Identify the inflection point"
   ]
  },
  {
   "cell_type": "markdown",
   "metadata": {},
   "source": [
    "Website is\n",
    "https://www.youtube.com/watch?v=Kas0tIxDvrg"
   ]
  }
 ],
 "metadata": {
  "kernelspec": {
   "display_name": "Python 3",
   "language": "python",
   "name": "python3"
  },
  "language_info": {
   "codemirror_mode": {
    "name": "ipython",
    "version": 3
   },
   "file_extension": ".py",
   "mimetype": "text/x-python",
   "name": "python",
   "nbconvert_exporter": "python",
   "pygments_lexer": "ipython3",
   "version": "3.6.5"
  }
 },
 "nbformat": 4,
 "nbformat_minor": 2
}
